{
 "cells": [
  {
   "cell_type": "markdown",
   "metadata": {},
   "source": [
    "## My First Program in Python"
   ]
  },
  {
   "cell_type": "code",
   "execution_count": 6,
   "metadata": {},
   "outputs": [
    {
     "name": "stdout",
     "output_type": "stream",
     "text": [
      "Enter a number23\n",
      "23 is an odd number\n"
     ]
    }
   ],
   "source": [
    "# Python program to check if the input number is odd or even.\n",
    "# A number is even if division by 2 give a remainder of 0.\n",
    "# If remainder is 1, it is odd number.\n",
    "\n",
    "#     num=int(input(\"Enter a Number\"))\n",
    "#     if(num % 2 == 0 ):\n",
    "#         print(\"{0} is an even number\".format(num))\n",
    "#         else:\n",
    "#             print(\"{0} is an odd number\".format(num))\n",
    "\n",
    "num = int(input(\"Enter a number\"))\n",
    "if(num % 2 == 0):\n",
    "    print(\"{0} is an even number\".format(num))\n",
    "else:\n",
    "    print(\"{0} is an odd number\".format(num))"
   ]
  },
  {
   "cell_type": "markdown",
   "metadata": {},
   "source": [
    "2nd Program"
   ]
  },
  {
   "cell_type": "code",
   "execution_count": 5,
   "metadata": {},
   "outputs": [
    {
     "name": "stdout",
     "output_type": "stream",
     "text": [
      "2002\n",
      "2009\n",
      "2016\n",
      "2023\n",
      "2037\n",
      "2044\n",
      "2051\n",
      "2058\n",
      "2072\n",
      "2079\n",
      "2086\n",
      "2093\n",
      "2107\n",
      "2114\n",
      "2121\n",
      "2128\n",
      "2142\n",
      "2149\n",
      "2156\n",
      "2163\n",
      "2177\n",
      "2184\n",
      "2191\n",
      "2198\n",
      "2212\n",
      "2219\n",
      "2226\n",
      "2233\n",
      "2247\n",
      "2254\n",
      "2261\n",
      "2268\n",
      "2282\n",
      "2289\n",
      "2296\n",
      "2303\n",
      "2317\n",
      "2324\n",
      "2331\n",
      "2338\n",
      "2352\n",
      "2359\n",
      "2366\n",
      "2373\n",
      "2387\n",
      "2394\n",
      "2401\n",
      "2408\n",
      "2422\n",
      "2429\n",
      "2436\n",
      "2443\n",
      "2457\n",
      "2464\n",
      "2471\n",
      "2478\n",
      "2492\n",
      "2499\n",
      "2506\n",
      "2513\n",
      "2527\n",
      "2534\n",
      "2541\n",
      "2548\n",
      "2562\n",
      "2569\n",
      "2576\n",
      "2583\n",
      "2597\n",
      "2604\n",
      "2611\n",
      "2618\n",
      "2632\n",
      "2639\n",
      "2646\n",
      "2653\n",
      "2667\n",
      "2674\n",
      "2681\n",
      "2688\n",
      "2702\n",
      "2709\n",
      "2716\n",
      "2723\n",
      "2737\n",
      "2744\n",
      "2751\n",
      "2758\n",
      "2772\n",
      "2779\n",
      "2786\n",
      "2793\n",
      "2807\n",
      "2814\n",
      "2821\n",
      "2828\n",
      "2842\n",
      "2849\n",
      "2856\n",
      "2863\n",
      "2877\n",
      "2884\n",
      "2891\n",
      "2898\n",
      "2912\n",
      "2919\n",
      "2926\n",
      "2933\n",
      "2947\n",
      "2954\n",
      "2961\n",
      "2968\n",
      "2982\n",
      "2989\n",
      "2996\n",
      "3003\n",
      "3017\n",
      "3024\n",
      "3031\n",
      "3038\n",
      "3052\n",
      "3059\n",
      "3066\n",
      "3073\n",
      "3087\n",
      "3094\n",
      "3101\n",
      "3108\n",
      "3122\n",
      "3129\n",
      "3136\n",
      "3143\n",
      "3157\n",
      "3164\n",
      "3171\n",
      "3178\n",
      "3192\n",
      "3199\n"
     ]
    }
   ],
   "source": [
    "# Write a program which will find all such numbers which are divisible by 7 but are not a multiple\n",
    "# of 5, between 2000 and 3200 (both included). The numbers obtained should be printed in a\n",
    "# comma-separated sequence on a single line.\n",
    "\n",
    "for i in range(2000,3200):\n",
    "    if(i % 7 == 0 and i % 5 != 0):\n",
    "        print(i)\n"
   ]
  },
  {
   "cell_type": "markdown",
   "metadata": {},
   "source": [
    "3rd Program"
   ]
  },
  {
   "cell_type": "code",
   "execution_count": 4,
   "metadata": {},
   "outputs": [
    {
     "name": "stdout",
     "output_type": "stream",
     "text": [
      "Enter First name:Prabeen\n",
      "Enter last name:Bisoyi\n",
      "Full Name : Prabeen Bisoyi\n",
      "Full Name in Reverse Order : Bisoyi Prabeen\n"
     ]
    }
   ],
   "source": [
    "# Write a Python program to accept the user's first and last name and then getting them printed in\n",
    "# the the reverse order with a space between first name and last name.\n",
    "firstName = input(\"Enter First name:\")\n",
    "lastName = input(\"Enter last name:\")\n",
    "print(\"Full Name : \" +firstName +' '+ lastName)\n",
    "print(\"Full Name in Reverse Order : \" +lastName +' '+ firstName)"
   ]
  },
  {
   "cell_type": "markdown",
   "metadata": {},
   "source": [
    "4th Program"
   ]
  },
  {
   "cell_type": "code",
   "execution_count": 8,
   "metadata": {},
   "outputs": [
    {
     "name": "stdout",
     "output_type": "stream",
     "text": [
      "Volume of sphere is 7238.229473870882 :\n"
     ]
    }
   ],
   "source": [
    "# Write a Python program to find the volume of a sphere with diameter 12 cm.\n",
    "# Formula: V=4/3 * π * r 3\n",
    "\n",
    "import math\n",
    "r = 12\n",
    "volume = 4.0/3.0 * math.pi * (r*r*r)\n",
    "print ('Volume of sphere is {0} :'.format(volume) )"
   ]
  },
  {
   "cell_type": "code",
   "execution_count": 13,
   "metadata": {},
   "outputs": [
    {
     "name": "stdout",
     "output_type": "stream",
     "text": [
      "Enter numbers or (q)uit :1\n",
      "Enter numbers or (q)uit :2\n",
      "Enter numbers or (q)uit :4\n",
      "Enter numbers or (q)uit :5\n",
      "Enter numbers or (q)uit :76\n",
      "Enter numbers or (q)uit :43\n",
      "Enter numbers or (q)uit :q\n",
      "[1, 2, 4, 5, 76, 43]\n"
     ]
    }
   ],
   "source": [
    "mylist = []\n",
    "# counter = 0\n",
    "while(counter<10):\n",
    "    num = input(\"Enter numbers or (q)uit :\")\n",
    "    if(num == 'q'):\n",
    "        break  \n",
    "    else:\n",
    "        mylist.append(int(num))\n",
    "#     counter = counter+1\n",
    "print(mylist)    \n",
    "    "
   ]
  },
  {
   "cell_type": "code",
   "execution_count": 20,
   "metadata": {},
   "outputs": [
    {
     "name": "stdout",
     "output_type": "stream",
     "text": [
      "Enter the word :prabeen\n",
      "The Reverse of the word:neebarp\n"
     ]
    }
   ],
   "source": [
    "# Write a Python program to reverse a word after accepting the input from the user\n",
    "\n",
    "srt = input(\"Enter the word :\")\n",
    "str = str[::-1]\n",
    "print(\"The Reverse of the word:{}\".format(str))"
   ]
  },
  {
   "cell_type": "code",
   "execution_count": 1,
   "metadata": {},
   "outputs": [
    {
     "name": "stdout",
     "output_type": "stream",
     "text": [
      "Program to print start pattern: \n",
      "\n",
      "Enter max star to be display on single line5\n",
      "* \n",
      "* * \n",
      "* * * \n",
      "* * * * \n",
      "* * * * * \n",
      "* * * * \n",
      "* * * \n",
      "* * \n",
      "* \n",
      "\n"
     ]
    }
   ],
   "source": [
    "print(\"Program to print start pattern: \\n\");\n",
    "\n",
    "rows = input(\"Enter max star to be display on single line\")\n",
    "rows = int (rows)\n",
    "for i in range (0, rows):\n",
    "    for j in range(0, i + 1):\n",
    "        print(\"*\", end=' ')\n",
    "    print(\"\\r\")\n",
    "\n",
    "for i in range (rows, 0, -1):\n",
    "    for j in range(0, i -1):\n",
    "        print(\"*\", end=' ')\n",
    "    print(\"\\r\")"
   ]
  },
  {
   "cell_type": "code",
   "execution_count": 3,
   "metadata": {},
   "outputs": [
    {
     "name": "stdout",
     "output_type": "stream",
     "text": [
      "WE, THE PEOPLE OF INDIA, having solemnly resolved to constitute India into a SOVEREIGN, SOCIALIST, SECULAR, DEMOCRATIC REPUBLIC and to secure to all its citizens\n"
     ]
    }
   ],
   "source": [
    "print(\"WE, THE PEOPLE OF INDIA, having solemnly resolved to constitute India into a SOVEREIGN, SOCIALIST, SECULAR, DEMOCRATIC REPUBLIC and to secure to all its citizens\")"
   ]
  },
  {
   "cell_type": "markdown",
   "metadata": {},
   "source": [
    "# we need to print like below \n",
    "WE, THE PEOPLE OF INDIA,\n",
    "    having solemnly resolved to constitute India into a SOVEREIGN, !\n",
    "        SOCIALIST, SECULAR, DEMOCRATIC REPUBLIC\n",
    "            and to secure to all its citizens"
   ]
  },
  {
   "cell_type": "code",
   "execution_count": 4,
   "metadata": {},
   "outputs": [
    {
     "name": "stdout",
     "output_type": "stream",
     "text": [
      "WE, THE PEOPLE OF INDIA,\n",
      "\t having solemnly resolved to constitute India into a SOVEREIGN, ! \n",
      "\t SOCIALIST, SECULAR, DEMOCRATIC REPUBLIC \n",
      "\t and to secure to all its citizens \n"
     ]
    }
   ],
   "source": [
    "print(\"WE, THE PEOPLE OF INDIA,\\n\\t having solemnly resolved to constitute India into a SOVEREIGN, ! \\n\\t SOCIALIST, SECULAR, DEMOCRATIC REPUBLIC \\n\\t and to secure to all its citizens \")"
   ]
  },
  {
   "cell_type": "code",
   "execution_count": null,
   "metadata": {},
   "outputs": [],
   "source": []
  }
 ],
 "metadata": {
  "kernelspec": {
   "display_name": "Python 3",
   "language": "python",
   "name": "python3"
  },
  "language_info": {
   "codemirror_mode": {
    "name": "ipython",
    "version": 3
   },
   "file_extension": ".py",
   "mimetype": "text/x-python",
   "name": "python",
   "nbconvert_exporter": "python",
   "pygments_lexer": "ipython3",
   "version": "3.7.3"
  }
 },
 "nbformat": 4,
 "nbformat_minor": 2
}
